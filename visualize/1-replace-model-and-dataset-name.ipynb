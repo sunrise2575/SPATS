{
 "cells": [
  {
   "cell_type": "code",
   "execution_count": 1,
   "metadata": {},
   "outputs": [],
   "source": [
    "import polars as pl\n",
    "\n",
    "import matplotlib.pyplot as plt\n",
    "import seaborn as sns\n",
    "import warnings\n",
    "\n",
    "import pandas as pd\n",
    "\n",
    "sns.set(font_scale = 2)\n",
    "\n",
    "warnings.filterwarnings('ignore')\n",
    "sql = pl.SQLContext()"
   ]
  },
  {
   "cell_type": "code",
   "execution_count": 2,
   "metadata": {},
   "outputs": [],
   "source": [
    "fname = 'broker_success'"
   ]
  },
  {
   "cell_type": "code",
   "execution_count": 3,
   "metadata": {},
   "outputs": [
    {
     "data": {
      "text/html": [
       "<div><style>\n",
       ".dataframe > thead > tr,\n",
       ".dataframe > tbody > tr {\n",
       "  text-align: right;\n",
       "  white-space: pre-wrap;\n",
       "}\n",
       "</style>\n",
       "<small>shape: (5_500, 22)</small><table border=\"1\" class=\"dataframe\"><thead><tr><th>datasetName</th><th>trainTestRatio</th><th>adjacencyMatrixThresholdValue</th><th>adjacencyMatrixLaplacianMatrix</th><th>inputLength</th><th>outputLength</th><th>modelName</th><th>modelConfig</th><th>maxEpoch</th><th>batchSize</th><th>learningRate</th><th>weightDecay</th><th>epoch</th><th>train_MAE</th><th>train_MSE</th><th>train_MAAPE</th><th>test_MAE</th><th>test_MSE</th><th>test_MAAPE</th><th>train_time</th><th>test_time</th><th>max_memory</th></tr><tr><td>str</td><td>f64</td><td>f64</td><td>str</td><td>i64</td><td>i64</td><td>str</td><td>str</td><td>i64</td><td>i64</td><td>f64</td><td>f64</td><td>i64</td><td>f64</td><td>f64</td><td>f64</td><td>f64</td><td>f64</td><td>f64</td><td>f64</td><td>f64</td><td>i64</td></tr></thead><tbody><tr><td>&quot;METR-LA&quot;</td><td>0.7</td><td>0.7</td><td>null</td><td>12</td><td>12</td><td>&quot;TGCRN&quot;</td><td>&quot;{&quot;time_dim&quot;: 64, &quot;rnn_units&quot;: …</td><td>100</td><td>4</td><td>0.001</td><td>0.0005</td><td>0</td><td>5.784943</td><td>84.336727</td><td>0.079433</td><td>5.990822</td><td>95.61106</td><td>0.086645</td><td>2265.015956</td><td>337.952203</td><td>8039872512</td></tr><tr><td>&quot;METR-LA&quot;</td><td>0.7</td><td>0.7</td><td>null</td><td>12</td><td>12</td><td>&quot;TGCRN&quot;</td><td>&quot;{&quot;time_dim&quot;: 64, &quot;rnn_units&quot;: …</td><td>100</td><td>4</td><td>0.001</td><td>0.0005</td><td>1</td><td>6.362557</td><td>96.504918</td><td>0.086978</td><td>9.708423</td><td>143.754232</td><td>0.123516</td><td>2287.852889</td><td>340.470569</td><td>8039872512</td></tr><tr><td>&quot;METR-LA&quot;</td><td>0.7</td><td>0.7</td><td>null</td><td>12</td><td>12</td><td>&quot;TGCRN&quot;</td><td>&quot;{&quot;time_dim&quot;: 64, &quot;rnn_units&quot;: …</td><td>100</td><td>4</td><td>0.001</td><td>0.0005</td><td>2</td><td>6.509921</td><td>98.569934</td><td>0.089357</td><td>7.71185</td><td>110.260659</td><td>0.103455</td><td>2279.532034</td><td>338.442425</td><td>8039872512</td></tr><tr><td>&quot;METR-LA&quot;</td><td>0.7</td><td>0.7</td><td>null</td><td>12</td><td>12</td><td>&quot;TGCRN&quot;</td><td>&quot;{&quot;time_dim&quot;: 64, &quot;rnn_units&quot;: …</td><td>100</td><td>4</td><td>0.001</td><td>0.0005</td><td>3</td><td>6.382493</td><td>96.287697</td><td>0.086978</td><td>6.384435</td><td>98.660091</td><td>0.090147</td><td>2268.217832</td><td>347.906588</td><td>8039872512</td></tr><tr><td>&quot;METR-LA&quot;</td><td>0.7</td><td>0.7</td><td>null</td><td>12</td><td>12</td><td>&quot;TGCRN&quot;</td><td>&quot;{&quot;time_dim&quot;: 64, &quot;rnn_units&quot;: …</td><td>100</td><td>4</td><td>0.001</td><td>0.0005</td><td>4</td><td>5.834478</td><td>85.417185</td><td>0.08045</td><td>5.614222</td><td>85.88304</td><td>0.080525</td><td>2266.640234</td><td>339.010984</td><td>8039872512</td></tr><tr><td>&hellip;</td><td>&hellip;</td><td>&hellip;</td><td>&hellip;</td><td>&hellip;</td><td>&hellip;</td><td>&hellip;</td><td>&hellip;</td><td>&hellip;</td><td>&hellip;</td><td>&hellip;</td><td>&hellip;</td><td>&hellip;</td><td>&hellip;</td><td>&hellip;</td><td>&hellip;</td><td>&hellip;</td><td>&hellip;</td><td>&hellip;</td><td>&hellip;</td><td>&hellip;</td><td>&hellip;</td></tr><tr><td>&quot;Uzel2022&quot;</td><td>0.7</td><td>0.7</td><td>null</td><td>15</td><td>30</td><td>&quot;TGCRN&quot;</td><td>&quot;{&quot;time_dim&quot;: 64, &quot;rnn_units&quot;: …</td><td>100</td><td>8</td><td>0.001</td><td>0.0005</td><td>95</td><td>0.128946</td><td>0.038702</td><td>0.301376</td><td>0.135659</td><td>0.039933</td><td>0.317464</td><td>138.726858</td><td>20.060141</td><td>8332599808</td></tr><tr><td>&quot;Uzel2022&quot;</td><td>0.7</td><td>0.7</td><td>null</td><td>15</td><td>30</td><td>&quot;TGCRN&quot;</td><td>&quot;{&quot;time_dim&quot;: 64, &quot;rnn_units&quot;: …</td><td>100</td><td>8</td><td>0.001</td><td>0.0005</td><td>96</td><td>0.128986</td><td>0.039051</td><td>0.299372</td><td>0.136541</td><td>0.041955</td><td>0.330639</td><td>138.501477</td><td>20.142564</td><td>8332599808</td></tr><tr><td>&quot;Uzel2022&quot;</td><td>0.7</td><td>0.7</td><td>null</td><td>15</td><td>30</td><td>&quot;TGCRN&quot;</td><td>&quot;{&quot;time_dim&quot;: 64, &quot;rnn_units&quot;: …</td><td>100</td><td>8</td><td>0.001</td><td>0.0005</td><td>97</td><td>0.132322</td><td>0.040257</td><td>0.305981</td><td>0.136585</td><td>0.042629</td><td>0.326921</td><td>138.591057</td><td>20.132166</td><td>8332599808</td></tr><tr><td>&quot;Uzel2022&quot;</td><td>0.7</td><td>0.7</td><td>null</td><td>15</td><td>30</td><td>&quot;TGCRN&quot;</td><td>&quot;{&quot;time_dim&quot;: 64, &quot;rnn_units&quot;: …</td><td>100</td><td>8</td><td>0.001</td><td>0.0005</td><td>98</td><td>0.130207</td><td>0.040061</td><td>0.301457</td><td>0.146115</td><td>0.048306</td><td>0.331494</td><td>138.020891</td><td>20.144317</td><td>8332599808</td></tr><tr><td>&quot;Uzel2022&quot;</td><td>0.7</td><td>0.7</td><td>null</td><td>15</td><td>30</td><td>&quot;TGCRN&quot;</td><td>&quot;{&quot;time_dim&quot;: 64, &quot;rnn_units&quot;: …</td><td>100</td><td>8</td><td>0.001</td><td>0.0005</td><td>99</td><td>0.128018</td><td>0.039172</td><td>0.296289</td><td>0.132744</td><td>0.039968</td><td>0.319849</td><td>138.7898</td><td>20.170108</td><td>8332599808</td></tr></tbody></table></div>"
      ],
      "text/plain": [
       "shape: (5_500, 22)\n",
       "┌───────────┬───────────┬───────────┬───────────┬───┬───────────┬───────────┬───────────┬──────────┐\n",
       "│ datasetNa ┆ trainTest ┆ adjacency ┆ adjacency ┆ … ┆ test_MAAP ┆ train_tim ┆ test_time ┆ max_memo │\n",
       "│ me        ┆ Ratio     ┆ MatrixThr ┆ MatrixLap ┆   ┆ E         ┆ e         ┆ ---       ┆ ry       │\n",
       "│ ---       ┆ ---       ┆ esholdVal ┆ lacianMat ┆   ┆ ---       ┆ ---       ┆ f64       ┆ ---      │\n",
       "│ str       ┆ f64       ┆ ue        ┆ rix       ┆   ┆ f64       ┆ f64       ┆           ┆ i64      │\n",
       "│           ┆           ┆ ---       ┆ ---       ┆   ┆           ┆           ┆           ┆          │\n",
       "│           ┆           ┆ f64       ┆ str       ┆   ┆           ┆           ┆           ┆          │\n",
       "╞═══════════╪═══════════╪═══════════╪═══════════╪═══╪═══════════╪═══════════╪═══════════╪══════════╡\n",
       "│ METR-LA   ┆ 0.7       ┆ 0.7       ┆ null      ┆ … ┆ 0.086645  ┆ 2265.0159 ┆ 337.95220 ┆ 80398725 │\n",
       "│           ┆           ┆           ┆           ┆   ┆           ┆ 56        ┆ 3         ┆ 12       │\n",
       "│ METR-LA   ┆ 0.7       ┆ 0.7       ┆ null      ┆ … ┆ 0.123516  ┆ 2287.8528 ┆ 340.47056 ┆ 80398725 │\n",
       "│           ┆           ┆           ┆           ┆   ┆           ┆ 89        ┆ 9         ┆ 12       │\n",
       "│ METR-LA   ┆ 0.7       ┆ 0.7       ┆ null      ┆ … ┆ 0.103455  ┆ 2279.5320 ┆ 338.44242 ┆ 80398725 │\n",
       "│           ┆           ┆           ┆           ┆   ┆           ┆ 34        ┆ 5         ┆ 12       │\n",
       "│ METR-LA   ┆ 0.7       ┆ 0.7       ┆ null      ┆ … ┆ 0.090147  ┆ 2268.2178 ┆ 347.90658 ┆ 80398725 │\n",
       "│           ┆           ┆           ┆           ┆   ┆           ┆ 32        ┆ 8         ┆ 12       │\n",
       "│ METR-LA   ┆ 0.7       ┆ 0.7       ┆ null      ┆ … ┆ 0.080525  ┆ 2266.6402 ┆ 339.01098 ┆ 80398725 │\n",
       "│           ┆           ┆           ┆           ┆   ┆           ┆ 34        ┆ 4         ┆ 12       │\n",
       "│ …         ┆ …         ┆ …         ┆ …         ┆ … ┆ …         ┆ …         ┆ …         ┆ …        │\n",
       "│ Uzel2022  ┆ 0.7       ┆ 0.7       ┆ null      ┆ … ┆ 0.317464  ┆ 138.72685 ┆ 20.060141 ┆ 83325998 │\n",
       "│           ┆           ┆           ┆           ┆   ┆           ┆ 8         ┆           ┆ 08       │\n",
       "│ Uzel2022  ┆ 0.7       ┆ 0.7       ┆ null      ┆ … ┆ 0.330639  ┆ 138.50147 ┆ 20.142564 ┆ 83325998 │\n",
       "│           ┆           ┆           ┆           ┆   ┆           ┆ 7         ┆           ┆ 08       │\n",
       "│ Uzel2022  ┆ 0.7       ┆ 0.7       ┆ null      ┆ … ┆ 0.326921  ┆ 138.59105 ┆ 20.132166 ┆ 83325998 │\n",
       "│           ┆           ┆           ┆           ┆   ┆           ┆ 7         ┆           ┆ 08       │\n",
       "│ Uzel2022  ┆ 0.7       ┆ 0.7       ┆ null      ┆ … ┆ 0.331494  ┆ 138.02089 ┆ 20.144317 ┆ 83325998 │\n",
       "│           ┆           ┆           ┆           ┆   ┆           ┆ 1         ┆           ┆ 08       │\n",
       "│ Uzel2022  ┆ 0.7       ┆ 0.7       ┆ null      ┆ … ┆ 0.319849  ┆ 138.7898  ┆ 20.170108 ┆ 83325998 │\n",
       "│           ┆           ┆           ┆           ┆   ┆           ┆           ┆           ┆ 08       │\n",
       "└───────────┴───────────┴───────────┴───────────┴───┴───────────┴───────────┴───────────┴──────────┘"
      ]
     },
     "execution_count": 3,
     "metadata": {},
     "output_type": "execute_result"
    }
   ],
   "source": [
    "df = pl.scan_csv(f'{fname}.csv')\n",
    "df = df.with_columns(pl.col('modelName').str.replace('Seq2Seq_', ''))\n",
    "df = df.with_columns(pl.col('modelName').str.replace('GraphWaveNet', 'GWNet'))\n",
    "df = df.with_columns(pl.col('datasetName').str.replace('NOAA-ISD-1000', 'NOAA1000'))\n",
    "df = df.with_columns(pl.col('datasetName').str.replace('Hungarian-chickenpox', 'Chickenpox'))\n",
    "df = df.with_columns(pl.col('datasetName').str.replace('Japan-prefecture', 'JP-Pref'))\n",
    "df = df.with_columns(pl.col('datasetName').str.replace('PEMSD7_M', 'PEMSD7'))\n",
    "sql.register(\"df\", df)\n",
    "df.collect()"
   ]
  },
  {
   "cell_type": "code",
   "execution_count": 4,
   "metadata": {},
   "outputs": [],
   "source": [
    "df.collect().write_csv(f'{fname}-modified.csv')"
   ]
  },
  {
   "cell_type": "code",
   "execution_count": null,
   "metadata": {},
   "outputs": [],
   "source": []
  }
 ],
 "metadata": {
  "kernelspec": {
   "display_name": "base",
   "language": "python",
   "name": "python3"
  },
  "language_info": {
   "codemirror_mode": {
    "name": "ipython",
    "version": 3
   },
   "file_extension": ".py",
   "mimetype": "text/x-python",
   "name": "python",
   "nbconvert_exporter": "python",
   "pygments_lexer": "ipython3",
   "version": "3.10.14"
  }
 },
 "nbformat": 4,
 "nbformat_minor": 2
}
