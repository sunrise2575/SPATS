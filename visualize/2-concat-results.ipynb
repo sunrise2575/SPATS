{
 "cells": [
  {
   "cell_type": "code",
   "execution_count": 1,
   "metadata": {},
   "outputs": [
    {
     "data": {
      "text/plain": [
       "<polars.config.Config at 0x7fc32c25ba30>"
      ]
     },
     "execution_count": 1,
     "metadata": {},
     "output_type": "execute_result"
    }
   ],
   "source": [
    "import polars as pl\n",
    "\n",
    "import matplotlib.pyplot as plt\n",
    "import warnings\n",
    "\n",
    "import pandas as pd\n",
    "\n",
    "\n",
    "warnings.filterwarnings('ignore')\n",
    "sql = pl.SQLContext()\n",
    "#pl.Config.set_fmt_str_lengths(10000000)\n",
    "#pl.Config(tbl_rows=-1, tbl_cols=-1)\n",
    "pl.Config(tbl_cols=-1)"
   ]
  },
  {
   "cell_type": "code",
   "execution_count": 2,
   "metadata": {},
   "outputs": [
    {
     "data": {
      "text/plain": [
       "<SQLContext [tables:2] at 0x7fc29b9a35e0>"
      ]
     },
     "execution_count": 2,
     "metadata": {},
     "output_type": "execute_result"
    }
   ],
   "source": [
    "df1 = pl.scan_csv('./result.csv')\n",
    "df2 = pl.scan_csv('./broker_success-modified.csv')\n",
    "sql.register(\"df2\", df2)\n",
    "df2 = sql.execute('SELECT * FROM df2 WHERE test_MAAPE > 0.0001').collect()\n",
    "sql.register(\"df1\", df1)\n",
    "sql.register(\"df2\", df2)\n"
   ]
  },
  {
   "cell_type": "code",
   "execution_count": 3,
   "metadata": {},
   "outputs": [
    {
     "data": {
      "text/html": [
       "<div><style>\n",
       ".dataframe > thead > tr,\n",
       ".dataframe > tbody > tr {\n",
       "  text-align: right;\n",
       "  white-space: pre-wrap;\n",
       "}\n",
       "</style>\n",
       "<small>shape: (4_789, 22)</small><table border=\"1\" class=\"dataframe\"><thead><tr><th>datasetName</th><th>trainTestRatio</th><th>adjacencyMatrixThresholdValue</th><th>adjacencyMatrixLaplacianMatrix</th><th>inputLength</th><th>outputLength</th><th>modelName</th><th>modelConfig</th><th>maxEpoch</th><th>batchSize</th><th>learningRate</th><th>weightDecay</th><th>epoch</th><th>train_MAE</th><th>train_MSE</th><th>train_MAAPE</th><th>test_MAE</th><th>test_MSE</th><th>test_MAAPE</th><th>train_time</th><th>test_time</th><th>max_memory</th></tr><tr><td>str</td><td>f64</td><td>f64</td><td>str</td><td>i64</td><td>i64</td><td>str</td><td>str</td><td>i64</td><td>i64</td><td>f64</td><td>f64</td><td>i64</td><td>f64</td><td>f64</td><td>f64</td><td>f64</td><td>f64</td><td>f64</td><td>f64</td><td>f64</td><td>i64</td></tr></thead><tbody><tr><td>&quot;METR-LA&quot;</td><td>0.7</td><td>0.7</td><td>null</td><td>12</td><td>12</td><td>&quot;TGCRN&quot;</td><td>&quot;{&quot;time_dim&quot;: 64, &quot;rnn_units&quot;: …</td><td>100</td><td>4</td><td>0.001</td><td>0.0005</td><td>0</td><td>5.784943</td><td>84.336727</td><td>0.079433</td><td>5.990822</td><td>95.61106</td><td>0.086645</td><td>2265.015956</td><td>337.952203</td><td>8039872512</td></tr><tr><td>&quot;METR-LA&quot;</td><td>0.7</td><td>0.7</td><td>null</td><td>12</td><td>12</td><td>&quot;TGCRN&quot;</td><td>&quot;{&quot;time_dim&quot;: 64, &quot;rnn_units&quot;: …</td><td>100</td><td>4</td><td>0.001</td><td>0.0005</td><td>1</td><td>6.362557</td><td>96.504918</td><td>0.086978</td><td>9.708423</td><td>143.754232</td><td>0.123516</td><td>2287.852889</td><td>340.470569</td><td>8039872512</td></tr><tr><td>&quot;METR-LA&quot;</td><td>0.7</td><td>0.7</td><td>null</td><td>12</td><td>12</td><td>&quot;TGCRN&quot;</td><td>&quot;{&quot;time_dim&quot;: 64, &quot;rnn_units&quot;: …</td><td>100</td><td>4</td><td>0.001</td><td>0.0005</td><td>2</td><td>6.509921</td><td>98.569934</td><td>0.089357</td><td>7.71185</td><td>110.260659</td><td>0.103455</td><td>2279.532034</td><td>338.442425</td><td>8039872512</td></tr><tr><td>&quot;METR-LA&quot;</td><td>0.7</td><td>0.7</td><td>null</td><td>12</td><td>12</td><td>&quot;TGCRN&quot;</td><td>&quot;{&quot;time_dim&quot;: 64, &quot;rnn_units&quot;: …</td><td>100</td><td>4</td><td>0.001</td><td>0.0005</td><td>3</td><td>6.382493</td><td>96.287697</td><td>0.086978</td><td>6.384435</td><td>98.660091</td><td>0.090147</td><td>2268.217832</td><td>347.906588</td><td>8039872512</td></tr><tr><td>&quot;METR-LA&quot;</td><td>0.7</td><td>0.7</td><td>null</td><td>12</td><td>12</td><td>&quot;TGCRN&quot;</td><td>&quot;{&quot;time_dim&quot;: 64, &quot;rnn_units&quot;: …</td><td>100</td><td>4</td><td>0.001</td><td>0.0005</td><td>4</td><td>5.834478</td><td>85.417185</td><td>0.08045</td><td>5.614222</td><td>85.88304</td><td>0.080525</td><td>2266.640234</td><td>339.010984</td><td>8039872512</td></tr><tr><td>&hellip;</td><td>&hellip;</td><td>&hellip;</td><td>&hellip;</td><td>&hellip;</td><td>&hellip;</td><td>&hellip;</td><td>&hellip;</td><td>&hellip;</td><td>&hellip;</td><td>&hellip;</td><td>&hellip;</td><td>&hellip;</td><td>&hellip;</td><td>&hellip;</td><td>&hellip;</td><td>&hellip;</td><td>&hellip;</td><td>&hellip;</td><td>&hellip;</td><td>&hellip;</td><td>&hellip;</td></tr><tr><td>&quot;Uzel2022&quot;</td><td>0.7</td><td>0.7</td><td>null</td><td>15</td><td>30</td><td>&quot;TGCRN&quot;</td><td>&quot;{&quot;time_dim&quot;: 64, &quot;rnn_units&quot;: …</td><td>100</td><td>8</td><td>0.001</td><td>0.0005</td><td>95</td><td>0.128946</td><td>0.038702</td><td>0.301376</td><td>0.135659</td><td>0.039933</td><td>0.317464</td><td>138.726858</td><td>20.060141</td><td>8332599808</td></tr><tr><td>&quot;Uzel2022&quot;</td><td>0.7</td><td>0.7</td><td>null</td><td>15</td><td>30</td><td>&quot;TGCRN&quot;</td><td>&quot;{&quot;time_dim&quot;: 64, &quot;rnn_units&quot;: …</td><td>100</td><td>8</td><td>0.001</td><td>0.0005</td><td>96</td><td>0.128986</td><td>0.039051</td><td>0.299372</td><td>0.136541</td><td>0.041955</td><td>0.330639</td><td>138.501477</td><td>20.142564</td><td>8332599808</td></tr><tr><td>&quot;Uzel2022&quot;</td><td>0.7</td><td>0.7</td><td>null</td><td>15</td><td>30</td><td>&quot;TGCRN&quot;</td><td>&quot;{&quot;time_dim&quot;: 64, &quot;rnn_units&quot;: …</td><td>100</td><td>8</td><td>0.001</td><td>0.0005</td><td>97</td><td>0.132322</td><td>0.040257</td><td>0.305981</td><td>0.136585</td><td>0.042629</td><td>0.326921</td><td>138.591057</td><td>20.132166</td><td>8332599808</td></tr><tr><td>&quot;Uzel2022&quot;</td><td>0.7</td><td>0.7</td><td>null</td><td>15</td><td>30</td><td>&quot;TGCRN&quot;</td><td>&quot;{&quot;time_dim&quot;: 64, &quot;rnn_units&quot;: …</td><td>100</td><td>8</td><td>0.001</td><td>0.0005</td><td>98</td><td>0.130207</td><td>0.040061</td><td>0.301457</td><td>0.146115</td><td>0.048306</td><td>0.331494</td><td>138.020891</td><td>20.144317</td><td>8332599808</td></tr><tr><td>&quot;Uzel2022&quot;</td><td>0.7</td><td>0.7</td><td>null</td><td>15</td><td>30</td><td>&quot;TGCRN&quot;</td><td>&quot;{&quot;time_dim&quot;: 64, &quot;rnn_units&quot;: …</td><td>100</td><td>8</td><td>0.001</td><td>0.0005</td><td>99</td><td>0.128018</td><td>0.039172</td><td>0.296289</td><td>0.132744</td><td>0.039968</td><td>0.319849</td><td>138.7898</td><td>20.170108</td><td>8332599808</td></tr></tbody></table></div>"
      ],
      "text/plain": [
       "shape: (4_789, 22)\n",
       "┌─────┬─────┬─────┬─────┬─────┬─────┬─────┬─────┬─────┬─────┬─────┬─────┬─────┬─────┬─────┬─────┬─────┬─────┬─────┬─────┬─────┬─────┐\n",
       "│ dat ┆ tra ┆ adj ┆ adj ┆ inp ┆ out ┆ mod ┆ mod ┆ max ┆ bat ┆ lea ┆ wei ┆ epo ┆ tra ┆ tra ┆ tra ┆ tes ┆ tes ┆ tes ┆ tra ┆ tes ┆ max │\n",
       "│ ase ┆ inT ┆ ace ┆ ace ┆ utL ┆ put ┆ elN ┆ elC ┆ Epo ┆ chS ┆ rni ┆ ght ┆ ch  ┆ in_ ┆ in_ ┆ in_ ┆ t_M ┆ t_M ┆ t_M ┆ in_ ┆ t_t ┆ _me │\n",
       "│ tNa ┆ est ┆ ncy ┆ ncy ┆ eng ┆ Len ┆ ame ┆ onf ┆ ch  ┆ ize ┆ ngR ┆ Dec ┆ --- ┆ MAE ┆ MSE ┆ MAA ┆ AE  ┆ SE  ┆ AAP ┆ tim ┆ ime ┆ mor │\n",
       "│ me  ┆ Rat ┆ Mat ┆ Mat ┆ th  ┆ gth ┆ --- ┆ ig  ┆ --- ┆ --- ┆ ate ┆ ay  ┆ i64 ┆ --- ┆ --- ┆ PE  ┆ --- ┆ --- ┆ E   ┆ e   ┆ --- ┆ y   │\n",
       "│ --- ┆ io  ┆ rix ┆ rix ┆ --- ┆ --- ┆ str ┆ --- ┆ i64 ┆ i64 ┆ --- ┆ --- ┆     ┆ f64 ┆ f64 ┆ --- ┆ f64 ┆ f64 ┆ --- ┆ --- ┆ f64 ┆ --- │\n",
       "│ str ┆ --- ┆ Thr ┆ Lap ┆ i64 ┆ i64 ┆     ┆ str ┆     ┆     ┆ f64 ┆ f64 ┆     ┆     ┆     ┆ f64 ┆     ┆     ┆ f64 ┆ f64 ┆     ┆ i64 │\n",
       "│     ┆ f64 ┆ esh ┆ lac ┆     ┆     ┆     ┆     ┆     ┆     ┆     ┆     ┆     ┆     ┆     ┆     ┆     ┆     ┆     ┆     ┆     ┆     │\n",
       "│     ┆     ┆ old ┆ ian ┆     ┆     ┆     ┆     ┆     ┆     ┆     ┆     ┆     ┆     ┆     ┆     ┆     ┆     ┆     ┆     ┆     ┆     │\n",
       "│     ┆     ┆ Val ┆ Mat ┆     ┆     ┆     ┆     ┆     ┆     ┆     ┆     ┆     ┆     ┆     ┆     ┆     ┆     ┆     ┆     ┆     ┆     │\n",
       "│     ┆     ┆ ue  ┆ rix ┆     ┆     ┆     ┆     ┆     ┆     ┆     ┆     ┆     ┆     ┆     ┆     ┆     ┆     ┆     ┆     ┆     ┆     │\n",
       "│     ┆     ┆ --- ┆ --- ┆     ┆     ┆     ┆     ┆     ┆     ┆     ┆     ┆     ┆     ┆     ┆     ┆     ┆     ┆     ┆     ┆     ┆     │\n",
       "│     ┆     ┆ f64 ┆ str ┆     ┆     ┆     ┆     ┆     ┆     ┆     ┆     ┆     ┆     ┆     ┆     ┆     ┆     ┆     ┆     ┆     ┆     │\n",
       "╞═════╪═════╪═════╪═════╪═════╪═════╪═════╪═════╪═════╪═════╪═════╪═════╪═════╪═════╪═════╪═════╪═════╪═════╪═════╪═════╪═════╪═════╡\n",
       "│ MET ┆ 0.7 ┆ 0.7 ┆ nul ┆ 12  ┆ 12  ┆ TGC ┆ {\"t ┆ 100 ┆ 4   ┆ 0.0 ┆ 0.0 ┆ 0   ┆ 5.7 ┆ 84. ┆ 0.0 ┆ 5.9 ┆ 95. ┆ 0.0 ┆ 226 ┆ 337 ┆ 803 │\n",
       "│ R-L ┆     ┆     ┆ l   ┆     ┆     ┆ RN  ┆ ime ┆     ┆     ┆ 01  ┆ 005 ┆     ┆ 849 ┆ 336 ┆ 794 ┆ 908 ┆ 611 ┆ 866 ┆ 5.0 ┆ .95 ┆ 987 │\n",
       "│ A   ┆     ┆     ┆     ┆     ┆     ┆     ┆ _di ┆     ┆     ┆     ┆     ┆     ┆ 43  ┆ 727 ┆ 33  ┆ 22  ┆ 06  ┆ 45  ┆ 159 ┆ 220 ┆ 251 │\n",
       "│     ┆     ┆     ┆     ┆     ┆     ┆     ┆ m\": ┆     ┆     ┆     ┆     ┆     ┆     ┆     ┆     ┆     ┆     ┆     ┆ 56  ┆ 3   ┆ 2   │\n",
       "│     ┆     ┆     ┆     ┆     ┆     ┆     ┆ 64, ┆     ┆     ┆     ┆     ┆     ┆     ┆     ┆     ┆     ┆     ┆     ┆     ┆     ┆     │\n",
       "│     ┆     ┆     ┆     ┆     ┆     ┆     ┆ \"rn ┆     ┆     ┆     ┆     ┆     ┆     ┆     ┆     ┆     ┆     ┆     ┆     ┆     ┆     │\n",
       "│     ┆     ┆     ┆     ┆     ┆     ┆     ┆ n_u ┆     ┆     ┆     ┆     ┆     ┆     ┆     ┆     ┆     ┆     ┆     ┆     ┆     ┆     │\n",
       "│     ┆     ┆     ┆     ┆     ┆     ┆     ┆ nit ┆     ┆     ┆     ┆     ┆     ┆     ┆     ┆     ┆     ┆     ┆     ┆     ┆     ┆     │\n",
       "│     ┆     ┆     ┆     ┆     ┆     ┆     ┆ s\": ┆     ┆     ┆     ┆     ┆     ┆     ┆     ┆     ┆     ┆     ┆     ┆     ┆     ┆     │\n",
       "│     ┆     ┆     ┆     ┆     ┆     ┆     ┆ …   ┆     ┆     ┆     ┆     ┆     ┆     ┆     ┆     ┆     ┆     ┆     ┆     ┆     ┆     │\n",
       "│ MET ┆ 0.7 ┆ 0.7 ┆ nul ┆ 12  ┆ 12  ┆ TGC ┆ {\"t ┆ 100 ┆ 4   ┆ 0.0 ┆ 0.0 ┆ 1   ┆ 6.3 ┆ 96. ┆ 0.0 ┆ 9.7 ┆ 143 ┆ 0.1 ┆ 228 ┆ 340 ┆ 803 │\n",
       "│ R-L ┆     ┆     ┆ l   ┆     ┆     ┆ RN  ┆ ime ┆     ┆     ┆ 01  ┆ 005 ┆     ┆ 625 ┆ 504 ┆ 869 ┆ 084 ┆ .75 ┆ 235 ┆ 7.8 ┆ .47 ┆ 987 │\n",
       "│ A   ┆     ┆     ┆     ┆     ┆     ┆     ┆ _di ┆     ┆     ┆     ┆     ┆     ┆ 57  ┆ 918 ┆ 78  ┆ 23  ┆ 423 ┆ 16  ┆ 528 ┆ 056 ┆ 251 │\n",
       "│     ┆     ┆     ┆     ┆     ┆     ┆     ┆ m\": ┆     ┆     ┆     ┆     ┆     ┆     ┆     ┆     ┆     ┆ 2   ┆     ┆ 89  ┆ 9   ┆ 2   │\n",
       "│     ┆     ┆     ┆     ┆     ┆     ┆     ┆ 64, ┆     ┆     ┆     ┆     ┆     ┆     ┆     ┆     ┆     ┆     ┆     ┆     ┆     ┆     │\n",
       "│     ┆     ┆     ┆     ┆     ┆     ┆     ┆ \"rn ┆     ┆     ┆     ┆     ┆     ┆     ┆     ┆     ┆     ┆     ┆     ┆     ┆     ┆     │\n",
       "│     ┆     ┆     ┆     ┆     ┆     ┆     ┆ n_u ┆     ┆     ┆     ┆     ┆     ┆     ┆     ┆     ┆     ┆     ┆     ┆     ┆     ┆     │\n",
       "│     ┆     ┆     ┆     ┆     ┆     ┆     ┆ nit ┆     ┆     ┆     ┆     ┆     ┆     ┆     ┆     ┆     ┆     ┆     ┆     ┆     ┆     │\n",
       "│     ┆     ┆     ┆     ┆     ┆     ┆     ┆ s\": ┆     ┆     ┆     ┆     ┆     ┆     ┆     ┆     ┆     ┆     ┆     ┆     ┆     ┆     │\n",
       "│     ┆     ┆     ┆     ┆     ┆     ┆     ┆ …   ┆     ┆     ┆     ┆     ┆     ┆     ┆     ┆     ┆     ┆     ┆     ┆     ┆     ┆     │\n",
       "│ MET ┆ 0.7 ┆ 0.7 ┆ nul ┆ 12  ┆ 12  ┆ TGC ┆ {\"t ┆ 100 ┆ 4   ┆ 0.0 ┆ 0.0 ┆ 2   ┆ 6.5 ┆ 98. ┆ 0.0 ┆ 7.7 ┆ 110 ┆ 0.1 ┆ 227 ┆ 338 ┆ 803 │\n",
       "│ R-L ┆     ┆     ┆ l   ┆     ┆     ┆ RN  ┆ ime ┆     ┆     ┆ 01  ┆ 005 ┆     ┆ 099 ┆ 569 ┆ 893 ┆ 118 ┆ .26 ┆ 034 ┆ 9.5 ┆ .44 ┆ 987 │\n",
       "│ A   ┆     ┆     ┆     ┆     ┆     ┆     ┆ _di ┆     ┆     ┆     ┆     ┆     ┆ 21  ┆ 934 ┆ 57  ┆ 5   ┆ 065 ┆ 55  ┆ 320 ┆ 242 ┆ 251 │\n",
       "│     ┆     ┆     ┆     ┆     ┆     ┆     ┆ m\": ┆     ┆     ┆     ┆     ┆     ┆     ┆     ┆     ┆     ┆ 9   ┆     ┆ 34  ┆ 5   ┆ 2   │\n",
       "│     ┆     ┆     ┆     ┆     ┆     ┆     ┆ 64, ┆     ┆     ┆     ┆     ┆     ┆     ┆     ┆     ┆     ┆     ┆     ┆     ┆     ┆     │\n",
       "│     ┆     ┆     ┆     ┆     ┆     ┆     ┆ \"rn ┆     ┆     ┆     ┆     ┆     ┆     ┆     ┆     ┆     ┆     ┆     ┆     ┆     ┆     │\n",
       "│     ┆     ┆     ┆     ┆     ┆     ┆     ┆ n_u ┆     ┆     ┆     ┆     ┆     ┆     ┆     ┆     ┆     ┆     ┆     ┆     ┆     ┆     │\n",
       "│     ┆     ┆     ┆     ┆     ┆     ┆     ┆ nit ┆     ┆     ┆     ┆     ┆     ┆     ┆     ┆     ┆     ┆     ┆     ┆     ┆     ┆     │\n",
       "│     ┆     ┆     ┆     ┆     ┆     ┆     ┆ s\": ┆     ┆     ┆     ┆     ┆     ┆     ┆     ┆     ┆     ┆     ┆     ┆     ┆     ┆     │\n",
       "│     ┆     ┆     ┆     ┆     ┆     ┆     ┆ …   ┆     ┆     ┆     ┆     ┆     ┆     ┆     ┆     ┆     ┆     ┆     ┆     ┆     ┆     │\n",
       "│ MET ┆ 0.7 ┆ 0.7 ┆ nul ┆ 12  ┆ 12  ┆ TGC ┆ {\"t ┆ 100 ┆ 4   ┆ 0.0 ┆ 0.0 ┆ 3   ┆ 6.3 ┆ 96. ┆ 0.0 ┆ 6.3 ┆ 98. ┆ 0.0 ┆ 226 ┆ 347 ┆ 803 │\n",
       "│ R-L ┆     ┆     ┆ l   ┆     ┆     ┆ RN  ┆ ime ┆     ┆     ┆ 01  ┆ 005 ┆     ┆ 824 ┆ 287 ┆ 869 ┆ 844 ┆ 660 ┆ 901 ┆ 8.2 ┆ .90 ┆ 987 │\n",
       "│ A   ┆     ┆     ┆     ┆     ┆     ┆     ┆ _di ┆     ┆     ┆     ┆     ┆     ┆ 93  ┆ 697 ┆ 78  ┆ 35  ┆ 091 ┆ 47  ┆ 178 ┆ 658 ┆ 251 │\n",
       "│     ┆     ┆     ┆     ┆     ┆     ┆     ┆ m\": ┆     ┆     ┆     ┆     ┆     ┆     ┆     ┆     ┆     ┆     ┆     ┆ 32  ┆ 8   ┆ 2   │\n",
       "│     ┆     ┆     ┆     ┆     ┆     ┆     ┆ 64, ┆     ┆     ┆     ┆     ┆     ┆     ┆     ┆     ┆     ┆     ┆     ┆     ┆     ┆     │\n",
       "│     ┆     ┆     ┆     ┆     ┆     ┆     ┆ \"rn ┆     ┆     ┆     ┆     ┆     ┆     ┆     ┆     ┆     ┆     ┆     ┆     ┆     ┆     │\n",
       "│     ┆     ┆     ┆     ┆     ┆     ┆     ┆ n_u ┆     ┆     ┆     ┆     ┆     ┆     ┆     ┆     ┆     ┆     ┆     ┆     ┆     ┆     │\n",
       "│     ┆     ┆     ┆     ┆     ┆     ┆     ┆ nit ┆     ┆     ┆     ┆     ┆     ┆     ┆     ┆     ┆     ┆     ┆     ┆     ┆     ┆     │\n",
       "│     ┆     ┆     ┆     ┆     ┆     ┆     ┆ s\": ┆     ┆     ┆     ┆     ┆     ┆     ┆     ┆     ┆     ┆     ┆     ┆     ┆     ┆     │\n",
       "│     ┆     ┆     ┆     ┆     ┆     ┆     ┆ …   ┆     ┆     ┆     ┆     ┆     ┆     ┆     ┆     ┆     ┆     ┆     ┆     ┆     ┆     │\n",
       "│ MET ┆ 0.7 ┆ 0.7 ┆ nul ┆ 12  ┆ 12  ┆ TGC ┆ {\"t ┆ 100 ┆ 4   ┆ 0.0 ┆ 0.0 ┆ 4   ┆ 5.8 ┆ 85. ┆ 0.0 ┆ 5.6 ┆ 85. ┆ 0.0 ┆ 226 ┆ 339 ┆ 803 │\n",
       "│ R-L ┆     ┆     ┆ l   ┆     ┆     ┆ RN  ┆ ime ┆     ┆     ┆ 01  ┆ 005 ┆     ┆ 344 ┆ 417 ┆ 804 ┆ 142 ┆ 883 ┆ 805 ┆ 6.6 ┆ .01 ┆ 987 │\n",
       "│ A   ┆     ┆     ┆     ┆     ┆     ┆     ┆ _di ┆     ┆     ┆     ┆     ┆     ┆ 78  ┆ 185 ┆ 5   ┆ 22  ┆ 04  ┆ 25  ┆ 402 ┆ 098 ┆ 251 │\n",
       "│     ┆     ┆     ┆     ┆     ┆     ┆     ┆ m\": ┆     ┆     ┆     ┆     ┆     ┆     ┆     ┆     ┆     ┆     ┆     ┆ 34  ┆ 4   ┆ 2   │\n",
       "│     ┆     ┆     ┆     ┆     ┆     ┆     ┆ 64, ┆     ┆     ┆     ┆     ┆     ┆     ┆     ┆     ┆     ┆     ┆     ┆     ┆     ┆     │\n",
       "│     ┆     ┆     ┆     ┆     ┆     ┆     ┆ \"rn ┆     ┆     ┆     ┆     ┆     ┆     ┆     ┆     ┆     ┆     ┆     ┆     ┆     ┆     │\n",
       "│     ┆     ┆     ┆     ┆     ┆     ┆     ┆ n_u ┆     ┆     ┆     ┆     ┆     ┆     ┆     ┆     ┆     ┆     ┆     ┆     ┆     ┆     │\n",
       "│     ┆     ┆     ┆     ┆     ┆     ┆     ┆ nit ┆     ┆     ┆     ┆     ┆     ┆     ┆     ┆     ┆     ┆     ┆     ┆     ┆     ┆     │\n",
       "│     ┆     ┆     ┆     ┆     ┆     ┆     ┆ s\": ┆     ┆     ┆     ┆     ┆     ┆     ┆     ┆     ┆     ┆     ┆     ┆     ┆     ┆     │\n",
       "│     ┆     ┆     ┆     ┆     ┆     ┆     ┆ …   ┆     ┆     ┆     ┆     ┆     ┆     ┆     ┆     ┆     ┆     ┆     ┆     ┆     ┆     │\n",
       "│ …   ┆ …   ┆ …   ┆ …   ┆ …   ┆ …   ┆ …   ┆ …   ┆ …   ┆ …   ┆ …   ┆ …   ┆ …   ┆ …   ┆ …   ┆ …   ┆ …   ┆ …   ┆ …   ┆ …   ┆ …   ┆ …   │\n",
       "│ Uze ┆ 0.7 ┆ 0.7 ┆ nul ┆ 15  ┆ 30  ┆ TGC ┆ {\"t ┆ 100 ┆ 8   ┆ 0.0 ┆ 0.0 ┆ 95  ┆ 0.1 ┆ 0.0 ┆ 0.3 ┆ 0.1 ┆ 0.0 ┆ 0.3 ┆ 138 ┆ 20. ┆ 833 │\n",
       "│ l20 ┆     ┆     ┆ l   ┆     ┆     ┆ RN  ┆ ime ┆     ┆     ┆ 01  ┆ 005 ┆     ┆ 289 ┆ 387 ┆ 013 ┆ 356 ┆ 399 ┆ 174 ┆ .72 ┆ 060 ┆ 259 │\n",
       "│ 22  ┆     ┆     ┆     ┆     ┆     ┆     ┆ _di ┆     ┆     ┆     ┆     ┆     ┆ 46  ┆ 02  ┆ 76  ┆ 59  ┆ 33  ┆ 64  ┆ 685 ┆ 141 ┆ 980 │\n",
       "│     ┆     ┆     ┆     ┆     ┆     ┆     ┆ m\": ┆     ┆     ┆     ┆     ┆     ┆     ┆     ┆     ┆     ┆     ┆     ┆ 8   ┆     ┆ 8   │\n",
       "│     ┆     ┆     ┆     ┆     ┆     ┆     ┆ 64, ┆     ┆     ┆     ┆     ┆     ┆     ┆     ┆     ┆     ┆     ┆     ┆     ┆     ┆     │\n",
       "│     ┆     ┆     ┆     ┆     ┆     ┆     ┆ \"rn ┆     ┆     ┆     ┆     ┆     ┆     ┆     ┆     ┆     ┆     ┆     ┆     ┆     ┆     │\n",
       "│     ┆     ┆     ┆     ┆     ┆     ┆     ┆ n_u ┆     ┆     ┆     ┆     ┆     ┆     ┆     ┆     ┆     ┆     ┆     ┆     ┆     ┆     │\n",
       "│     ┆     ┆     ┆     ┆     ┆     ┆     ┆ nit ┆     ┆     ┆     ┆     ┆     ┆     ┆     ┆     ┆     ┆     ┆     ┆     ┆     ┆     │\n",
       "│     ┆     ┆     ┆     ┆     ┆     ┆     ┆ s\": ┆     ┆     ┆     ┆     ┆     ┆     ┆     ┆     ┆     ┆     ┆     ┆     ┆     ┆     │\n",
       "│     ┆     ┆     ┆     ┆     ┆     ┆     ┆ …   ┆     ┆     ┆     ┆     ┆     ┆     ┆     ┆     ┆     ┆     ┆     ┆     ┆     ┆     │\n",
       "│ Uze ┆ 0.7 ┆ 0.7 ┆ nul ┆ 15  ┆ 30  ┆ TGC ┆ {\"t ┆ 100 ┆ 8   ┆ 0.0 ┆ 0.0 ┆ 96  ┆ 0.1 ┆ 0.0 ┆ 0.2 ┆ 0.1 ┆ 0.0 ┆ 0.3 ┆ 138 ┆ 20. ┆ 833 │\n",
       "│ l20 ┆     ┆     ┆ l   ┆     ┆     ┆ RN  ┆ ime ┆     ┆     ┆ 01  ┆ 005 ┆     ┆ 289 ┆ 390 ┆ 993 ┆ 365 ┆ 419 ┆ 306 ┆ .50 ┆ 142 ┆ 259 │\n",
       "│ 22  ┆     ┆     ┆     ┆     ┆     ┆     ┆ _di ┆     ┆     ┆     ┆     ┆     ┆ 86  ┆ 51  ┆ 72  ┆ 41  ┆ 55  ┆ 39  ┆ 147 ┆ 564 ┆ 980 │\n",
       "│     ┆     ┆     ┆     ┆     ┆     ┆     ┆ m\": ┆     ┆     ┆     ┆     ┆     ┆     ┆     ┆     ┆     ┆     ┆     ┆ 7   ┆     ┆ 8   │\n",
       "│     ┆     ┆     ┆     ┆     ┆     ┆     ┆ 64, ┆     ┆     ┆     ┆     ┆     ┆     ┆     ┆     ┆     ┆     ┆     ┆     ┆     ┆     │\n",
       "│     ┆     ┆     ┆     ┆     ┆     ┆     ┆ \"rn ┆     ┆     ┆     ┆     ┆     ┆     ┆     ┆     ┆     ┆     ┆     ┆     ┆     ┆     │\n",
       "│     ┆     ┆     ┆     ┆     ┆     ┆     ┆ n_u ┆     ┆     ┆     ┆     ┆     ┆     ┆     ┆     ┆     ┆     ┆     ┆     ┆     ┆     │\n",
       "│     ┆     ┆     ┆     ┆     ┆     ┆     ┆ nit ┆     ┆     ┆     ┆     ┆     ┆     ┆     ┆     ┆     ┆     ┆     ┆     ┆     ┆     │\n",
       "│     ┆     ┆     ┆     ┆     ┆     ┆     ┆ s\": ┆     ┆     ┆     ┆     ┆     ┆     ┆     ┆     ┆     ┆     ┆     ┆     ┆     ┆     │\n",
       "│     ┆     ┆     ┆     ┆     ┆     ┆     ┆ …   ┆     ┆     ┆     ┆     ┆     ┆     ┆     ┆     ┆     ┆     ┆     ┆     ┆     ┆     │\n",
       "│ Uze ┆ 0.7 ┆ 0.7 ┆ nul ┆ 15  ┆ 30  ┆ TGC ┆ {\"t ┆ 100 ┆ 8   ┆ 0.0 ┆ 0.0 ┆ 97  ┆ 0.1 ┆ 0.0 ┆ 0.3 ┆ 0.1 ┆ 0.0 ┆ 0.3 ┆ 138 ┆ 20. ┆ 833 │\n",
       "│ l20 ┆     ┆     ┆ l   ┆     ┆     ┆ RN  ┆ ime ┆     ┆     ┆ 01  ┆ 005 ┆     ┆ 323 ┆ 402 ┆ 059 ┆ 365 ┆ 426 ┆ 269 ┆ .59 ┆ 132 ┆ 259 │\n",
       "│ 22  ┆     ┆     ┆     ┆     ┆     ┆     ┆ _di ┆     ┆     ┆     ┆     ┆     ┆ 22  ┆ 57  ┆ 81  ┆ 85  ┆ 29  ┆ 21  ┆ 105 ┆ 166 ┆ 980 │\n",
       "│     ┆     ┆     ┆     ┆     ┆     ┆     ┆ m\": ┆     ┆     ┆     ┆     ┆     ┆     ┆     ┆     ┆     ┆     ┆     ┆ 7   ┆     ┆ 8   │\n",
       "│     ┆     ┆     ┆     ┆     ┆     ┆     ┆ 64, ┆     ┆     ┆     ┆     ┆     ┆     ┆     ┆     ┆     ┆     ┆     ┆     ┆     ┆     │\n",
       "│     ┆     ┆     ┆     ┆     ┆     ┆     ┆ \"rn ┆     ┆     ┆     ┆     ┆     ┆     ┆     ┆     ┆     ┆     ┆     ┆     ┆     ┆     │\n",
       "│     ┆     ┆     ┆     ┆     ┆     ┆     ┆ n_u ┆     ┆     ┆     ┆     ┆     ┆     ┆     ┆     ┆     ┆     ┆     ┆     ┆     ┆     │\n",
       "│     ┆     ┆     ┆     ┆     ┆     ┆     ┆ nit ┆     ┆     ┆     ┆     ┆     ┆     ┆     ┆     ┆     ┆     ┆     ┆     ┆     ┆     │\n",
       "│     ┆     ┆     ┆     ┆     ┆     ┆     ┆ s\": ┆     ┆     ┆     ┆     ┆     ┆     ┆     ┆     ┆     ┆     ┆     ┆     ┆     ┆     │\n",
       "│     ┆     ┆     ┆     ┆     ┆     ┆     ┆ …   ┆     ┆     ┆     ┆     ┆     ┆     ┆     ┆     ┆     ┆     ┆     ┆     ┆     ┆     │\n",
       "│ Uze ┆ 0.7 ┆ 0.7 ┆ nul ┆ 15  ┆ 30  ┆ TGC ┆ {\"t ┆ 100 ┆ 8   ┆ 0.0 ┆ 0.0 ┆ 98  ┆ 0.1 ┆ 0.0 ┆ 0.3 ┆ 0.1 ┆ 0.0 ┆ 0.3 ┆ 138 ┆ 20. ┆ 833 │\n",
       "│ l20 ┆     ┆     ┆ l   ┆     ┆     ┆ RN  ┆ ime ┆     ┆     ┆ 01  ┆ 005 ┆     ┆ 302 ┆ 400 ┆ 014 ┆ 461 ┆ 483 ┆ 314 ┆ .02 ┆ 144 ┆ 259 │\n",
       "│ 22  ┆     ┆     ┆     ┆     ┆     ┆     ┆ _di ┆     ┆     ┆     ┆     ┆     ┆ 07  ┆ 61  ┆ 57  ┆ 15  ┆ 06  ┆ 94  ┆ 089 ┆ 317 ┆ 980 │\n",
       "│     ┆     ┆     ┆     ┆     ┆     ┆     ┆ m\": ┆     ┆     ┆     ┆     ┆     ┆     ┆     ┆     ┆     ┆     ┆     ┆ 1   ┆     ┆ 8   │\n",
       "│     ┆     ┆     ┆     ┆     ┆     ┆     ┆ 64, ┆     ┆     ┆     ┆     ┆     ┆     ┆     ┆     ┆     ┆     ┆     ┆     ┆     ┆     │\n",
       "│     ┆     ┆     ┆     ┆     ┆     ┆     ┆ \"rn ┆     ┆     ┆     ┆     ┆     ┆     ┆     ┆     ┆     ┆     ┆     ┆     ┆     ┆     │\n",
       "│     ┆     ┆     ┆     ┆     ┆     ┆     ┆ n_u ┆     ┆     ┆     ┆     ┆     ┆     ┆     ┆     ┆     ┆     ┆     ┆     ┆     ┆     │\n",
       "│     ┆     ┆     ┆     ┆     ┆     ┆     ┆ nit ┆     ┆     ┆     ┆     ┆     ┆     ┆     ┆     ┆     ┆     ┆     ┆     ┆     ┆     │\n",
       "│     ┆     ┆     ┆     ┆     ┆     ┆     ┆ s\": ┆     ┆     ┆     ┆     ┆     ┆     ┆     ┆     ┆     ┆     ┆     ┆     ┆     ┆     │\n",
       "│     ┆     ┆     ┆     ┆     ┆     ┆     ┆ …   ┆     ┆     ┆     ┆     ┆     ┆     ┆     ┆     ┆     ┆     ┆     ┆     ┆     ┆     │\n",
       "│ Uze ┆ 0.7 ┆ 0.7 ┆ nul ┆ 15  ┆ 30  ┆ TGC ┆ {\"t ┆ 100 ┆ 8   ┆ 0.0 ┆ 0.0 ┆ 99  ┆ 0.1 ┆ 0.0 ┆ 0.2 ┆ 0.1 ┆ 0.0 ┆ 0.3 ┆ 138 ┆ 20. ┆ 833 │\n",
       "│ l20 ┆     ┆     ┆ l   ┆     ┆     ┆ RN  ┆ ime ┆     ┆     ┆ 01  ┆ 005 ┆     ┆ 280 ┆ 391 ┆ 962 ┆ 327 ┆ 399 ┆ 198 ┆ .78 ┆ 170 ┆ 259 │\n",
       "│ 22  ┆     ┆     ┆     ┆     ┆     ┆     ┆ _di ┆     ┆     ┆     ┆     ┆     ┆ 18  ┆ 72  ┆ 89  ┆ 44  ┆ 68  ┆ 49  ┆ 98  ┆ 108 ┆ 980 │\n",
       "│     ┆     ┆     ┆     ┆     ┆     ┆     ┆ m\": ┆     ┆     ┆     ┆     ┆     ┆     ┆     ┆     ┆     ┆     ┆     ┆     ┆     ┆ 8   │\n",
       "│     ┆     ┆     ┆     ┆     ┆     ┆     ┆ 64, ┆     ┆     ┆     ┆     ┆     ┆     ┆     ┆     ┆     ┆     ┆     ┆     ┆     ┆     │\n",
       "│     ┆     ┆     ┆     ┆     ┆     ┆     ┆ \"rn ┆     ┆     ┆     ┆     ┆     ┆     ┆     ┆     ┆     ┆     ┆     ┆     ┆     ┆     │\n",
       "│     ┆     ┆     ┆     ┆     ┆     ┆     ┆ n_u ┆     ┆     ┆     ┆     ┆     ┆     ┆     ┆     ┆     ┆     ┆     ┆     ┆     ┆     │\n",
       "│     ┆     ┆     ┆     ┆     ┆     ┆     ┆ nit ┆     ┆     ┆     ┆     ┆     ┆     ┆     ┆     ┆     ┆     ┆     ┆     ┆     ┆     │\n",
       "│     ┆     ┆     ┆     ┆     ┆     ┆     ┆ s\": ┆     ┆     ┆     ┆     ┆     ┆     ┆     ┆     ┆     ┆     ┆     ┆     ┆     ┆     │\n",
       "│     ┆     ┆     ┆     ┆     ┆     ┆     ┆ …   ┆     ┆     ┆     ┆     ┆     ┆     ┆     ┆     ┆     ┆     ┆     ┆     ┆     ┆     │\n",
       "└─────┴─────┴─────┴─────┴─────┴─────┴─────┴─────┴─────┴─────┴─────┴─────┴─────┴─────┴─────┴─────┴─────┴─────┴─────┴─────┴─────┴─────┘"
      ]
     },
     "execution_count": 3,
     "metadata": {},
     "output_type": "execute_result"
    }
   ],
   "source": [
    "sql.execute('SELECT * FROM df2').collect()"
   ]
  },
  {
   "cell_type": "code",
   "execution_count": 4,
   "metadata": {},
   "outputs": [],
   "source": [
    "df3 = pl.concat([df1.collect(), df2])\n",
    "sql.register(\"df3\", df3)\n",
    "sql.execute(\n",
    "    f'''\n",
    "    SELECT *\n",
    "    FROM df3\n",
    "    ORDER BY datasetName, adjacencyMatrixThresholdValue, adjacencyMatrixLaplacianMatrix, inputLength, outputLength, modelName, epoch\n",
    "    ''').collect().write_csv('result.csv')"
   ]
  },
  {
   "cell_type": "code",
   "execution_count": null,
   "metadata": {},
   "outputs": [],
   "source": []
  }
 ],
 "metadata": {
  "kernelspec": {
   "display_name": "base",
   "language": "python",
   "name": "python3"
  },
  "language_info": {
   "codemirror_mode": {
    "name": "ipython",
    "version": 3
   },
   "file_extension": ".py",
   "mimetype": "text/x-python",
   "name": "python",
   "nbconvert_exporter": "python",
   "pygments_lexer": "ipython3",
   "version": "3.10.14"
  }
 },
 "nbformat": 4,
 "nbformat_minor": 2
}
